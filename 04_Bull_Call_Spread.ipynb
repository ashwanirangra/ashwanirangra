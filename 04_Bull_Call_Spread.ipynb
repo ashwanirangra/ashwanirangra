{
  "nbformat": 4,
  "nbformat_minor": 0,
  "metadata": {
    "kernelspec": {
      "display_name": "Python 3",
      "language": "python",
      "name": "python3"
    },
    "language_info": {
      "codemirror_mode": {
        "name": "ipython",
        "version": 3
      },
      "file_extension": ".py",
      "mimetype": "text/x-python",
      "name": "python",
      "nbconvert_exporter": "python",
      "pygments_lexer": "ipython3",
      "version": "3.6.5"
    },
    "colab": {
      "name": "04_Bull_Call_Spread.ipynb",
      "provenance": [],
      "collapsed_sections": [],
      "include_colab_link": true
    }
  },
  "cells": [
    {
      "cell_type": "markdown",
      "metadata": {
        "id": "view-in-github",
        "colab_type": "text"
      },
      "source": [
        "<a href=\"https://colab.research.google.com/github/ashwanirangra/ashwanirangra/blob/main/04_Bull_Call_Spread.ipynb\" target=\"_parent\"><img src=\"https://colab.research.google.com/assets/colab-badge.svg\" alt=\"Open In Colab\"/></a>"
      ]
    },
    {
      "cell_type": "markdown",
      "metadata": {
        "id": "6PPCZWgR1RYT"
      },
      "source": [
        "## Step 1: Import libraries"
      ]
    },
    {
      "cell_type": "code",
      "metadata": {
        "id": "E2OpwScG1RYU"
      },
      "source": [
        "import numpy as np\n",
        "import matplotlib.pyplot as plt"
      ],
      "execution_count": 1,
      "outputs": []
    },
    {
      "cell_type": "markdown",
      "metadata": {
        "id": "jgwfc80Q1RYU"
      },
      "source": [
        "## Step 2: Call payoff"
      ]
    },
    {
      "cell_type": "code",
      "metadata": {
        "id": "FSee5JIp1RYU"
      },
      "source": [
        "def payoff(value, strike_price, premium):\n",
        "    pnl = np.where(value > strike_price, value - strike_price, 0) \n",
        "    return pnl - premium"
      ],
      "execution_count": 2,
      "outputs": []
    },
    {
      "cell_type": "markdown",
      "metadata": {
        "id": "EcDIhll11RYV"
      },
      "source": [
        "\n",
        "## Step 3: Define parameters"
      ]
    },
    {
      "cell_type": "code",
      "metadata": {
        "id": "KVVyaBiN1RYV"
      },
      "source": [
        "spot_price = 900 \n",
        "\n",
        "strike_price_long_call = 920 \n",
        "\n",
        "premium_long_call = 15\n",
        "\n",
        "strike_price_short_call = 940 \n",
        "\n",
        "premium_short_call = 10\n",
        "\n",
        "value = np.arange(0.95*spot_price,1.1*spot_price,1) "
      ],
      "execution_count": 3,
      "outputs": []
    },
    {
      "cell_type": "markdown",
      "metadata": {
        "id": "OfDvDvfc1RYV"
      },
      "source": [
        "## Step 4: Long call payoff"
      ]
    },
    {
      "cell_type": "code",
      "metadata": {
        "id": "PnR7mgVb1RYV",
        "colab": {
          "base_uri": "https://localhost:8080/",
          "height": 334
        },
        "outputId": "5fc61893-953c-4fb8-fa55-fd4a5bd34b98"
      },
      "source": [
        "payoff_long_call = payoff(value, strike_price_long_call, premium_long_call)\n",
        "\n",
        "fig = plt.subplots(figsize=(8,5))\n",
        "\n",
        "plt.plot(value,payoff_long_call,label='Long Call')\n",
        "plt.xlabel('Stock Price')\n",
        "plt.ylabel('P / L')\n",
        "plt.legend()\n",
        "plt.show()"
      ],
      "execution_count": 4,
      "outputs": [
        {
          "output_type": "display_data",
          "data": {
            "image/png": "[encoded data removed]",
            "text/plain": [
              "<Figure size 576x360 with 1 Axes>"
            ]
          },
          "metadata": {
            "needs_background": "light"
          }
        }
      ]
    },
    {
      "cell_type": "markdown",
      "metadata": {
        "id": "b0jJbbeM1RYX"
      },
      "source": [
        "## Step 5: Short Call Payoff"
      ]
    },
    {
      "cell_type": "code",
      "source": [
        ""
      ],
      "metadata": {
        "id": "Wakuf15pXltD"
      },
      "execution_count": null,
      "outputs": []
    },
    {
      "cell_type": "code",
      "source": [
        ""
      ],
      "metadata": {
        "id": "reAzycLsXmUM"
      },
      "execution_count": null,
      "outputs": []
    },
    {
      "cell_type": "markdown",
      "source": [
        ""
      ],
      "metadata": {
        "id": "cN1BUjfxXnTW"
      }
    },
    {
      "cell_type": "code",
      "metadata": {
        "id": "fv71w2q01RYX",
        "colab": {
          "base_uri": "https://localhost:8080/",
          "height": 334
        },
        "outputId": "b1845322-abeb-48f5-bcef-31f6abf091b9"
      },
      "source": [
        "payoff_short_call = payoff(value, strike_price_short_call, premium_short_call) * -1.0\n",
        "\n",
        "fig = plt.subplots(figsize=(8,5))\n",
        "\n",
        "plt.plot(value,payoff_short_call,label='Short Call',color='r')\n",
        "plt.xlabel('Stock Price')\n",
        "plt.ylabel('P / L')\n",
        "plt.legend()\n",
        "plt.show()"
      ],
      "execution_count": 5,
      "outputs": [
        {
          "output_type": "display_data",
          "data": {
            "image/png": "[encoded data removed]",
            "text/plain": [
              "<Figure size 576x360 with 1 Axes>"
            ]
          },
          "metadata": {
            "needs_background": "light"
          }
        }
      ]
    },
    {
      "cell_type": "markdown",
      "metadata": {
        "id": "rG25Ll261RYX"
      },
      "source": [
        "## Step 6: Bull call spread payoff"
      ]
    },
    {
      "cell_type": "code",
      "metadata": {
        "id": "e9wq9Cr81RYX",
        "colab": {
          "base_uri": "https://localhost:8080/",
          "height": 369
        },
        "outputId": "c0492de8-abc6-4689-b643-a09f4c9eafdd"
      },
      "source": [
        "payoff_bull_call_spread = payoff_long_call + payoff_short_call\n",
        "\n",
        "print (\"Max Profit:\", max(payoff_bull_call_spread))\n",
        "print (\"Max Loss:\", min(payoff_bull_call_spread))\n",
        "\n",
        "\n",
        "fig= plt.subplots(figsize=(8,5))\n",
        "\n",
        "plt.plot(value,payoff_long_call,label='Long Call',color = 'g')\n",
        "plt.plot(value,payoff_short_call,label='Short Call ',color = 'r')\n",
        "plt.plot(value,payoff_bull_call_spread,label='Bull Call Spread', color = 'b')\n",
        "plt.xlabel('Stock Price')\n",
        "plt.ylabel('P / L')\n",
        "plt.legend()\n",
        "plt.show()"
      ],
      "execution_count": 6,
      "outputs": [
        {
          "output_type": "stream",
          "name": "stdout",
          "text": [
            "Max Profit: 15.0\n",
            "Max Loss: -5.0\n"
          ]
        },
        {
          "output_type": "display_data",
          "data": {
            "image/png": "[encoded data removed]",
            "text/plain": [
              "<Figure size 576x360 with 1 Axes>"
            ]
          },
          "metadata": {
            "needs_background": "light"
          }
        }
      ]
    },
    {
      "cell_type": "markdown",
      "metadata": {
        "id": "9KO4XT5i1RYY"
      },
      "source": [
        "The max profit is capped at INR 15 and the max loss is limited to INR 5. Therefore, this strategy is suitable when your outlook is moderately bullish on the stock. \n",
        "<BR>\n"
      ]
    }
  ]
}