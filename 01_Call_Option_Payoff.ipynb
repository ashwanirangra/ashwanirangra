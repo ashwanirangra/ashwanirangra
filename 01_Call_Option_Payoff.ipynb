{
  "nbformat": 4,
  "nbformat_minor": 0,
  "metadata": {
    "kernelspec": {
      "display_name": "Python 3",
      "language": "python",
      "name": "python3"
    },
    "language_info": {
      "codemirror_mode": {
        "name": "ipython",
        "version": 3
      },
      "file_extension": ".py",
      "mimetype": "text/x-python",
      "name": "python",
      "nbconvert_exporter": "python",
      "pygments_lexer": "ipython3",
      "version": "3.6.12"
    },
    "colab": {
      "name": "01_Call_Option_Payoff.ipynb",
      "provenance": [],
      "collapsed_sections": [],
      "include_colab_link": true
    }
  },
  "cells": [
    {
      "cell_type": "markdown",
      "metadata": {
        "id": "view-in-github",
        "colab_type": "text"
      },
      "source": [
        "<a href=\"https://colab.research.google.com/github/ashwanirangra/ashwanirangra/blob/main/01_Call_Option_Payoff.ipynb\" target=\"_parent\"><img src=\"https://colab.research.google.com/assets/colab-badge.svg\" alt=\"Open In Colab\"/></a>"
      ]
    },
    {
      "cell_type": "markdown",
      "metadata": {
        "id": "1LFA6dnC0Poy"
      },
      "source": [
        "## Step 1:- Import libraries "
      ]
    },
    {
      "cell_type": "code",
      "metadata": {
        "id": "RQZTMce30Poy",
        "colab": {
          "base_uri": "https://localhost:8080/"
        },
        "outputId": "8a044212-9062-4198-b7bf-920da4df55bb"
      },
      "source": [
        "!pip install numpy\n",
        "!pip install matplotlib\n",
        "import numpy as np\n",
        "import matplotlib.pyplot as plt\n"
      ],
      "execution_count": null,
      "outputs": [
        {
          "output_type": "stream",
          "text": [
            "Requirement already satisfied: numpy in /usr/local/lib/python3.7/dist-packages (1.19.5)\n",
            "Requirement already satisfied: matplotlib in /usr/local/lib/python3.7/dist-packages (3.2.2)\n",
            "Requirement already satisfied: cycler>=0.10 in /usr/local/lib/python3.7/dist-packages (from matplotlib) (0.10.0)\n",
            "Requirement already satisfied: pyparsing!=2.0.4,!=2.1.2,!=2.1.6,>=2.0.1 in /usr/local/lib/python3.7/dist-packages (from matplotlib) (2.4.7)\n",
            "Requirement already satisfied: numpy>=1.11 in /usr/local/lib/python3.7/dist-packages (from matplotlib) (1.19.5)\n",
            "Requirement already satisfied: python-dateutil>=2.1 in /usr/local/lib/python3.7/dist-packages (from matplotlib) (2.8.1)\n",
            "Requirement already satisfied: kiwisolver>=1.0.1 in /usr/local/lib/python3.7/dist-packages (from matplotlib) (1.3.1)\n",
            "Requirement already satisfied: six in /usr/local/lib/python3.7/dist-packages (from cycler>=0.10->matplotlib) (1.15.0)\n"
          ],
          "name": "stdout"
        }
      ]
    },
    {
      "cell_type": "markdown",
      "metadata": {
        "id": "mea8m5_Y0Poz"
      },
      "source": [
        "## Step 2:- Call Payoff"
      ]
    },
    {
      "cell_type": "code",
      "metadata": {
        "id": "cBtgOePO0Poz"
      },
      "source": [
        "def payoff(value, strike_price, premium):\n",
        "    pnl = np.where(value > strike_price, value - strike_price, 0)    \n",
        "    return (pnl - premium)"
      ],
      "execution_count": null,
      "outputs": []
    },
    {
      "cell_type": "markdown",
      "metadata": {
        "id": "HuFXkbOV0Po0"
      },
      "source": [
        "## Step 3:- Define parameters\n"
      ]
    },
    {
      "cell_type": "code",
      "metadata": {
        "id": "M8p4PLFw0Po0"
      },
      "source": [
        "spot_price = 1800 \n",
        "\n",
        "strike_price = 1810 \n",
        "\n",
        "premium = 25\n",
        "\n",
        "value = np.arange(0.9*spot_price,1.1*spot_price) "
      ],
      "execution_count": null,
      "outputs": []
    },
    {
      "cell_type": "markdown",
      "metadata": {
        "id": "ENUX27-X0Po0"
      },
      "source": [
        "## Step 4:- Buyer payoff of call options"
      ]
    },
    {
      "cell_type": "code",
      "metadata": {
        "id": "RGXTF0Dk0Po1",
        "colab": {
          "base_uri": "https://localhost:8080/",
          "height": 388
        },
        "outputId": "ea26356a-5732-4ed4-b15a-8c90fb8c5804"
      },
      "source": [
        "payoff_buyer = payoff(value, strike_price, premium)\n",
        "\n",
        "fig = plt.subplots(figsize=(8,6))\n",
        "\n",
        "plt.plot(value,payoff_buyer,label='Call option buyer payoff', scaley = 100)\n",
        "plt.xlabel('Stock Price')\n",
        "plt.ylabel('P / L')\n",
        "plt.legend()\n",
        "plt.show()"
      ],
      "execution_count": null,
      "outputs": [
        {
          "output_type": "display_data",
          "data": {
            "image/png": "[encoded data removed]",
            "text/plain": [
              "<Figure size 576x432 with 1 Axes>"
            ]
          },
          "metadata": {
            "tags": [],
            "needs_background": "light"
          }
        }
      ]
    },
    {
      "cell_type": "markdown",
      "metadata": {
        "id": "IbVztcD30Po2"
      },
      "source": [
        "## Step 5:- Seller payoff of call options\n"
      ]
    },
    {
      "cell_type": "code",
      "metadata": {
        "id": "tSPIYsCt0Po2",
        "colab": {
          "base_uri": "https://localhost:8080/",
          "height": 334
        },
        "outputId": "a3cd443b-2fcf-479c-8f0e-d5fcbe49c364"
      },
      "source": [
        "payoff_seller = payoff_buyer * -1.0\n",
        "\n",
        "fig = plt.subplots(figsize=(8,5))\n",
        "\n",
        "plt.plot(value,payoff_seller,label='Call option Seller Payoff',color='r')\n",
        "plt.xlabel('Stock Price')\n",
        "plt.ylabel('P / L')\n",
        "plt.legend()\n",
        "plt.show()"
      ],
      "execution_count": null,
      "outputs": [
        {
          "output_type": "display_data",
          "data": {
            "image/png": "[encoded data removed]",
            "text/plain": [
              "<Figure size 576x360 with 1 Axes>"
            ]
          },
          "metadata": {
            "tags": [],
            "needs_background": "light"
          }
        }
      ]
    },
    {
      "cell_type": "markdown",
      "metadata": {
        "id": "mcXWKYTgETQc"
      },
      "source": [
        "# Observations from above two payoff diagrams:-\n",
        "\n",
        "1. Maximum loss for options buyer is 25 INR\n",
        "2. Maximum Profit for option seller is 25 INR\n",
        "3. Profit keeps on increasing for option buyer with increse in stock price.\n",
        "4. Loss keeps on increasing for the option seller with increse in stock price.\n",
        "5. Both diagrams are mirror image of each other."
      ]
    }
  ]
}