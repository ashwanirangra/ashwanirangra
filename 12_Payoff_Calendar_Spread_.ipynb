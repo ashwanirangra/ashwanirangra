{
  "nbformat": 4,
  "nbformat_minor": 0,
  "metadata": {
    "kernelspec": {
      "display_name": "Python 3",
      "language": "python",
      "name": "python3"
    },
    "language_info": {
      "codemirror_mode": {
        "name": "ipython",
        "version": 3
      },
      "file_extension": ".py",
      "mimetype": "text/x-python",
      "name": "python",
      "nbconvert_exporter": "python",
      "pygments_lexer": "ipython3",
      "version": "3.6.5"
    },
    "colab": {
      "name": "12_Payoff Calendar Spread .ipynb",
      "provenance": [],
      "collapsed_sections": [],
      "include_colab_link": true
    }
  },
  "cells": [
    {
      "cell_type": "markdown",
      "metadata": {
        "id": "view-in-github",
        "colab_type": "text"
      },
      "source": [
        "<a href=\"https://colab.research.google.com/github/ashwanirangra/ashwanirangra/blob/main/12_Payoff_Calendar_Spread_.ipynb\" target=\"_parent\"><img src=\"https://colab.research.google.com/assets/colab-badge.svg\" alt=\"Open In Colab\"/></a>"
      ]
    },
    {
      "cell_type": "markdown",
      "metadata": {
        "id": "HSrGyNRtxFRv"
      },
      "source": [
        "# Calendar Spread Payoff\n",
        "\n",
        "A calendar spread strategy profits from the time decay and/or increase in the implied volatility of the options. In this notebook, we will create a payoff graph of the calendar spread at the expiry of the front-month option."
      ]
    },
    {
      "cell_type": "code",
      "metadata": {
        "id": "pOk2o4DMxM96",
        "colab": {
          "base_uri": "https://localhost:8080/"
        },
        "outputId": "1f29273c-7122-4b84-a31e-cf004c552f1f"
      },
      "source": [
        "!pip install mibian"
      ],
      "execution_count": null,
      "outputs": [
        {
          "output_type": "stream",
          "text": [
            "Collecting mibian\n",
            "  Downloading https://files.pythonhosted.org/packages/e5/74/25719d1f66b84561f209692947980660268cf601dc92766547b626eb03d5/mibian-0.1.3.tar.gz\n",
            "Building wheels for collected packages: mibian\n",
            "  Building wheel for mibian (setup.py) ... \u001b[?25l\u001b[?25hdone\n",
            "  Created wheel for mibian: filename=mibian-0.1.3-cp37-none-any.whl size=4038 sha256=5d3843f55e487f0bf2f1ade41713ef393ac9eab572221d4d76d8f944e2150e68\n",
            "  Stored in directory: /root/.cache/pip/wheels/34/c7/51/22486b811445a01dab50193c9748e94242e55a4ce686a24240\n",
            "Successfully built mibian\n",
            "Installing collected packages: mibian\n",
            "Successfully installed mibian-0.1.3\n"
          ],
          "name": "stdout"
        }
      ]
    },
    {
      "cell_type": "markdown",
      "metadata": {
        "id": "x9aJ74ZTxFRv"
      },
      "source": [
        "## Step 1: Import Libraries"
      ]
    },
    {
      "cell_type": "code",
      "metadata": {
        "id": "4Ij7ZXZuxFRv"
      },
      "source": [
        "import numpy as np\n",
        "import pandas as pd\n",
        "import matplotlib.pyplot as plt\n",
        "import seaborn\n",
        "import mibian"
      ],
      "execution_count": null,
      "outputs": []
    },
    {
      "cell_type": "markdown",
      "metadata": {
        "id": "nWhdYqPrxFRw"
      },
      "source": [
        "## Setup\n",
        "Calendar spread involves options of the same underlying asset, the same strike price but with different expiration dates. \n",
        "\n",
        "- Sell a call (or put) with near-term expiration — <font color=blue>“front-month”</font>\n",
        "- Buy a call (or put) with long-term expiration — <font color=blue>“back-month”</font>"
      ]
    },
    {
      "cell_type": "markdown",
      "metadata": {
        "id": "uL5NBVaYxFRw"
      },
      "source": [
        "## Step 2: Calendar spread on Nifty\n",
        "We will set up the calendar spread on Nifty as shown below.\n",
        "\n",
        "- Sell 10400 strike call @ INR 50.50 expiring on 28 November 2017 — <font color=blue>“front-month”</font>\n",
        "- Buy 10400 strike call @ INR 148.50 expiring on 30 December 2017 — <font color=blue>“back-month”</font>"
      ]
    },
    {
      "cell_type": "code",
      "metadata": {
        "id": "kxa5xzlcxFRw"
      },
      "source": [
        "# Nifty futures price \n",
        "nifty_nov_fut = 10350.00\n",
        "nifty_dec_fut = 10387.00\n",
        "\n",
        "strike_price = 10400\n",
        "nov_call_price = 50.50\n",
        "dec_call_price = 148.50\n",
        "setup_cost = dec_call_price - nov_call_price\n",
        "\n",
        "# Today's date is 21 November 2017. Therefore, days to November expiry is 7 days and days to December expiry is 34 days.\n",
        "days_to_expiry_nov_call = 7\n",
        "days_to_expiry_dec_call = 34\n",
        "\n",
        "# Range of values for Nifty\n",
        "sT = np.arange(0.92*nifty_nov_fut,1.1*nifty_nov_fut,1) \n",
        "\n",
        "# Interest rate for input to Black-Scholes model\n",
        "interest_rate = 10.0"
      ],
      "execution_count": null,
      "outputs": []
    },
    {
      "cell_type": "markdown",
      "metadata": {
        "id": "rqKVQCJdxFRx"
      },
      "source": [
        "## Step 3: Implied volatility\n",
        "\n",
        "We will calculate the implied volatilities for the front-month and back-month call option using Black-Scholes model. This implied volatility will be later used as input to Black-Scholes model to calculate the call price for diiferent values of Nifty."
      ]
    },
    {
      "cell_type": "code",
      "metadata": {
        "colab": {
          "base_uri": "https://localhost:8080/"
        },
        "id": "RqCarqnnxFRx",
        "outputId": "b8b74693-8ef5-4816-8740-08b2638637e4"
      },
      "source": [
        "# Front-month IV\n",
        "nov_call_iv = mibian.BS([nifty_nov_fut, strike_price, interest_rate, days_to_expiry_nov_call], \n",
        "                        callPrice=nov_call_price).impliedVolatility\n",
        "print(\"Front Month IV %.2f\" % nov_call_iv,\"%\")\n",
        "\n",
        "# Back-month IV\n",
        "dec_call_iv = mibian.BS([nifty_dec_fut, strike_price, interest_rate, days_to_expiry_dec_call], \n",
        "                        callPrice=dec_call_price).impliedVolatility\n",
        "print(\"Back Month IV %.2f\" % dec_call_iv,\"%\")"
      ],
      "execution_count": null,
      "outputs": [
        {
          "output_type": "stream",
          "text": [
            "Front Month IV 11.25 %\n",
            "Back Month IV 8.05 %\n"
          ],
          "name": "stdout"
        }
      ]
    },
    {
      "cell_type": "markdown",
      "metadata": {
        "id": "apFWOpHpxFRy"
      },
      "source": [
        "## Step 4: Calculating the call price for front and back month option\n",
        "Since there are two expiration dates for the options in the calendar spread, Black-Scholes pricing model is used to guesstimate the price of the front-month and back-month 10400 strike call at the front-month call expiry. You may change the days to expiry below to see how payoff changes.\n",
        "\n",
        "Note: We have assumed that all other things such as implied volatility and interest rates remain constant."
      ]
    },
    {
      "cell_type": "code",
      "metadata": {
        "colab": {
          "base_uri": "https://localhost:8080/",
          "height": 195
        },
        "id": "k9Ozdn3axFRy",
        "outputId": "923ae69b-5c53-4ed0-8dc7-80bcd56b3b62"
      },
      "source": [
        "# Changing days to expiry to a day before the front-month expiry\n",
        "days_to_expiry_nov_call = 0.001\n",
        "days_to_expiry_dec_call = 29 - days_to_expiry_nov_call\n",
        "\n",
        "df = pd.DataFrame()\n",
        "df['nifty_price'] = sT\n",
        "df['nov_call_price'] = np.nan\n",
        "df['dec_call_price'] = np.nan\n",
        "\n",
        "# Calculating call price for different possible values of Nifty\n",
        "for i in range(0,len(df)):\n",
        "    df.loc[i,'nov_call_price'] = mibian.BS([df.iloc[i]['nifty_price'], strike_price, interest_rate, days_to_expiry_nov_call], \n",
        "                                           volatility=nov_call_iv).callPrice\n",
        "    \n",
        "    # Since interest rate is considered 0%, 35 is added to the nifty price to get the Nifty December futures price. \n",
        "    df.loc[i,'dec_call_price'] = mibian.BS([df.iloc[i]['nifty_price']+35, strike_price, interest_rate, days_to_expiry_dec_call], \n",
        "                                           volatility=dec_call_iv).callPrice\n",
        "df.head()"
      ],
      "execution_count": null,
      "outputs": [
        {
          "output_type": "execute_result",
          "data": {
            "text/html": [
              "<div>\n",
              "<style scoped>\n",
              "    .dataframe tbody tr th:only-of-type {\n",
              "        vertical-align: middle;\n",
              "    }\n",
              "\n",
              "    .dataframe tbody tr th {\n",
              "        vertical-align: top;\n",
              "    }\n",
              "\n",
              "    .dataframe thead th {\n",
              "        text-align: right;\n",
              "    }\n",
              "</style>\n",
              "<table border=\"1\" class=\"dataframe\">\n",
              "  <thead>\n",
              "    <tr style=\"text-align: right;\">\n",
              "      <th></th>\n",
              "      <th>nifty_price</th>\n",
              "      <th>nov_call_price</th>\n",
              "      <th>dec_call_price</th>\n",
              "    </tr>\n",
              "  </thead>\n",
              "  <tbody>\n",
              "    <tr>\n",
              "      <th>0</th>\n",
              "      <td>9522.0</td>\n",
              "      <td>0.0</td>\n",
              "      <td>0.021449</td>\n",
              "    </tr>\n",
              "    <tr>\n",
              "      <th>1</th>\n",
              "      <td>9523.0</td>\n",
              "      <td>0.0</td>\n",
              "      <td>0.021835</td>\n",
              "    </tr>\n",
              "    <tr>\n",
              "      <th>2</th>\n",
              "      <td>9524.0</td>\n",
              "      <td>0.0</td>\n",
              "      <td>0.022229</td>\n",
              "    </tr>\n",
              "    <tr>\n",
              "      <th>3</th>\n",
              "      <td>9525.0</td>\n",
              "      <td>0.0</td>\n",
              "      <td>0.022629</td>\n",
              "    </tr>\n",
              "    <tr>\n",
              "      <th>4</th>\n",
              "      <td>9526.0</td>\n",
              "      <td>0.0</td>\n",
              "      <td>0.023035</td>\n",
              "    </tr>\n",
              "  </tbody>\n",
              "</table>\n",
              "</div>"
            ],
            "text/plain": [
              "   nifty_price  nov_call_price  dec_call_price\n",
              "0       9522.0             0.0        0.021449\n",
              "1       9523.0             0.0        0.021835\n",
              "2       9524.0             0.0        0.022229\n",
              "3       9525.0             0.0        0.022629\n",
              "4       9526.0             0.0        0.023035"
            ]
          },
          "metadata": {
            "tags": []
          },
          "execution_count": 5
        }
      ]
    },
    {
      "cell_type": "markdown",
      "metadata": {
        "id": "pNvWCetmxFRy"
      },
      "source": [
        "##Step 5: Computing Payoff"
      ]
    },
    {
      "cell_type": "code",
      "metadata": {
        "colab": {
          "base_uri": "https://localhost:8080/",
          "height": 334
        },
        "id": "ZUcL5mU0xFRz",
        "outputId": "ef275804-8607-409c-a6e1-4c57663467ec"
      },
      "source": [
        "df['payoff'] = df.dec_call_price - df.nov_call_price - setup_cost\n",
        "plt.figure(figsize=(10,5))\n",
        "plt.ylabel(\"payoff\")\n",
        "plt.xlabel(\"Nifty Price\")\n",
        "plt.plot(sT,df.payoff)\n",
        "plt.show()"
      ],
      "execution_count": null,
      "outputs": [
        {
          "output_type": "display_data",
          "data": {
            "image/png": "[encoded data removed]",
            "text/plain": [
              "<Figure size 720x360 with 1 Axes>"
            ]
          },
          "metadata": {
            "tags": [],
            "needs_background": "light"
          }
        }
      ]
    },
    {
      "cell_type": "markdown",
      "metadata": {
        "id": "uBE1ANj8xFRz"
      },
      "source": [
        "The key takeaways from the graphs are - \n",
        "\n",
        "1. The maximum profit is realized when the nifty price on expiry of front-month is at a strike price of INR 10400 \n",
        "2. The profit decreases as we move away from the strike price of INR 10400 in either direction. \n",
        "3. The maximum loss is realized as the option moves deep ITM or deep OTM."
      ]
    }
  ]
}