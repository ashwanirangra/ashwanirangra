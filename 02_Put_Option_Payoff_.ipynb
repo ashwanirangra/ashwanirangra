{
  "nbformat": 4,
  "nbformat_minor": 0,
  "metadata": {
    "kernelspec": {
      "display_name": "Python 3",
      "language": "python",
      "name": "python3"
    },
    "language_info": {
      "codemirror_mode": {
        "name": "ipython",
        "version": 3
      },
      "file_extension": ".py",
      "mimetype": "text/x-python",
      "name": "python",
      "nbconvert_exporter": "python",
      "pygments_lexer": "ipython3",
      "version": "3.6.12"
    },
    "colab": {
      "name": "02_Put_Option_Payoff_.ipynb",
      "provenance": [],
      "collapsed_sections": [],
      "include_colab_link": true
    }
  },
  "cells": [
    {
      "cell_type": "markdown",
      "metadata": {
        "id": "view-in-github",
        "colab_type": "text"
      },
      "source": [
        "<a href=\"https://colab.research.google.com/github/ashwanirangra/ashwanirangra/blob/main/02_Put_Option_Payoff_.ipynb\" target=\"_parent\"><img src=\"https://colab.research.google.com/assets/colab-badge.svg\" alt=\"Open In Colab\"/></a>"
      ]
    },
    {
      "cell_type": "markdown",
      "metadata": {
        "id": "vGTXdqbFzy_b"
      },
      "source": [
        "## Step 1: Import libraries"
      ]
    },
    {
      "cell_type": "code",
      "metadata": {
        "id": "Nr3m90eBzy_c",
        "colab": {
          "base_uri": "https://localhost:8080/"
        },
        "outputId": "f798b8a7-85d4-478d-b0a5-615a362cd9ab"
      },
      "source": [
        "!pip install numpy\n",
        "!pip install matplotlib\n",
        "import numpy as np\n",
        "import matplotlib.pyplot as plt\n"
      ],
      "execution_count": null,
      "outputs": [
        {
          "output_type": "stream",
          "text": [
            "Requirement already satisfied: numpy in /usr/local/lib/python3.7/dist-packages (1.19.5)\n",
            "Requirement already satisfied: matplotlib in /usr/local/lib/python3.7/dist-packages (3.2.2)\n",
            "Requirement already satisfied: python-dateutil>=2.1 in /usr/local/lib/python3.7/dist-packages (from matplotlib) (2.8.1)\n",
            "Requirement already satisfied: numpy>=1.11 in /usr/local/lib/python3.7/dist-packages (from matplotlib) (1.19.5)\n",
            "Requirement already satisfied: pyparsing!=2.0.4,!=2.1.2,!=2.1.6,>=2.0.1 in /usr/local/lib/python3.7/dist-packages (from matplotlib) (2.4.7)\n",
            "Requirement already satisfied: kiwisolver>=1.0.1 in /usr/local/lib/python3.7/dist-packages (from matplotlib) (1.3.1)\n",
            "Requirement already satisfied: cycler>=0.10 in /usr/local/lib/python3.7/dist-packages (from matplotlib) (0.10.0)\n",
            "Requirement already satisfied: six in /usr/local/lib/python3.7/dist-packages (from cycler>=0.10->matplotlib) (1.15.0)\n"
          ],
          "name": "stdout"
        }
      ]
    },
    {
      "cell_type": "markdown",
      "metadata": {
        "id": "2ng14g1Tzy_c"
      },
      "source": [
        "## Step 2: Put payoff\n"
      ]
    },
    {
      "cell_type": "code",
      "metadata": {
        "id": "5lh8Alo5zy_c"
      },
      "source": [
        "def payoff (value, strike_price, premium):\n",
        "    pnl = np.where(value<strike_price, strike_price - value, 0)\n",
        "    return pnl - premium"
      ],
      "execution_count": null,
      "outputs": []
    },
    {
      "cell_type": "markdown",
      "metadata": {
        "id": "Fe-f8TI2zy_d"
      },
      "source": [
        "## Step 3: Define parameters\n",
        "\n",
        "We will define the spot price, the strike price, premium, and a range of possible values for the Infosys stock price at expiry."
      ]
    },
    {
      "cell_type": "code",
      "metadata": {
        "id": "hCCCGsKfzy_d"
      },
      "source": [
        "spot_price = 900\n",
        "\n",
        "strike_price = 900\n",
        "\n",
        "premium = 20\n",
        "\n",
        "value = np.arange(0.9*spot_price,1.1*spot_price)"
      ],
      "execution_count": null,
      "outputs": []
    },
    {
      "cell_type": "markdown",
      "metadata": {
        "id": "JFLvxQVkzy_d"
      },
      "source": [
        "## Step 4: Buyer payoff for Put option\n"
      ]
    },
    {
      "cell_type": "code",
      "metadata": {
        "id": "PHlfzbd8zy_d",
        "colab": {
          "base_uri": "https://localhost:8080/",
          "height": 334
        },
        "outputId": "f7acd5a0-c0ca-4070-b75e-1ae5f1e3dbaf"
      },
      "source": [
        "payoff_buyer = payoff(value, strike_price, premium)\n",
        "\n",
        "fig = plt.subplots(figsize=(8,5))\n",
        "\n",
        "plt.plot(value,payoff_buyer,label='Put option buyer payoff')\n",
        "plt.xlabel('Stock Price')\n",
        "plt.ylabel('P / L')\n",
        "plt.legend()\n",
        "plt.show()"
      ],
      "execution_count": null,
      "outputs": [
        {
          "output_type": "display_data",
          "data": {
            "image/png": "[encoded data removed]",
            "text/plain": [
              "<Figure size 576x360 with 1 Axes>"
            ]
          },
          "metadata": {
            "tags": [],
            "needs_background": "light"
          }
        }
      ]
    },
    {
      "cell_type": "markdown",
      "metadata": {
        "id": "s60985Jjzy_e"
      },
      "source": [
        "## Step 5: Seller payoff for Put Option\n",
        "\n"
      ]
    },
    {
      "cell_type": "code",
      "metadata": {
        "id": "GbfOyEeGzy_e",
        "colab": {
          "base_uri": "https://localhost:8080/",
          "height": 334
        },
        "outputId": "324ae15f-5dac-4a4a-c925-3be9c213bccf"
      },
      "source": [
        "payoff_seller = payoff_buyer * -1.0\n",
        "\n",
        "fig = plt.subplots(figsize=(8,5))\n",
        "\n",
        "plt.plot(value,payoff_seller,label='Put option seller payoff',color='r')\n",
        "plt.xlabel('Stock Price')\n",
        "plt.ylabel('P / L')\n",
        "plt.legend()\n",
        "plt.show()"
      ],
      "execution_count": null,
      "outputs": [
        {
          "output_type": "display_data",
          "data": {
            "image/png": "[encoded data removed]",
            "text/plain": [
              "<Figure size 576x360 with 1 Axes>"
            ]
          },
          "metadata": {
            "tags": [],
            "needs_background": "light"
          }
        }
      ]
    },
    {
      "cell_type": "code",
      "metadata": {
        "id": "TL9p4SNRSQks"
      },
      "source": [
        ""
      ],
      "execution_count": null,
      "outputs": []
    },
    {
      "cell_type": "markdown",
      "metadata": {
        "id": "RsGdqsWpFZCr"
      },
      "source": [
        "# Observations from above two payoff diagrams:-\n",
        "\n",
        "1. Maximum loss for options buyer is 20 INR\n",
        "2. Maximum Profit for option seller is 20 INR\n",
        "3. Profit keeps on increasing for option buyer with decrease in stock price.\n",
        "4. Loss keeps on increasing for the option seller with decrease in stock price.\n",
        "5. Both diagrams are mirror image of each other."
      ]
    }
  ]
}