{
  "nbformat": 4,
  "nbformat_minor": 0,
  "metadata": {
    "colab": {
      "name": "08_Option Price.ipynb",
      "provenance": [],
      "collapsed_sections": [],
      "include_colab_link": true
    },
    "kernelspec": {
      "name": "python3",
      "display_name": "Python 3"
    },
    "language_info": {
      "name": "python"
    }
  },
  "cells": [
    {
      "cell_type": "markdown",
      "metadata": {
        "id": "view-in-github",
        "colab_type": "text"
      },
      "source": [
        "<a href=\"https://colab.research.google.com/github/ashwanirangra/ashwanirangra/blob/main/08_Option_Price.ipynb\" target=\"_parent\"><img src=\"https://colab.research.google.com/assets/colab-badge.svg\" alt=\"Open In Colab\"/></a>"
      ]
    },
    {
      "cell_type": "markdown",
      "metadata": {
        "id": "L_dAJBbmXZ-R"
      },
      "source": [
        "## Step 1:- Install Mibian \n",
        "\n"
      ]
    },
    {
      "cell_type": "code",
      "metadata": {
        "id": "TFOnwlR7Yy9p",
        "colab": {
          "base_uri": "https://localhost:8080/"
        },
        "outputId": "ad87609f-4409-46b2-cfe7-e465b26aaf67"
      },
      "source": [
        "!pip install mibian"
      ],
      "execution_count": null,
      "outputs": [
        {
          "output_type": "stream",
          "text": [
            "Collecting mibian\n",
            "  Downloading https://files.pythonhosted.org/packages/e5/74/25719d1f66b84561f209692947980660268cf601dc92766547b626eb03d5/mibian-0.1.3.tar.gz\n",
            "Building wheels for collected packages: mibian\n",
            "  Building wheel for mibian (setup.py) ... \u001b[?25l\u001b[?25hdone\n",
            "  Created wheel for mibian: filename=mibian-0.1.3-cp37-none-any.whl size=4038 sha256=a346d3f58bd40a11f2a0c3fb218b1a2754ff49ede9c7efbff003535c6712353a\n",
            "  Stored in directory: /root/.cache/pip/wheels/34/c7/51/22486b811445a01dab50193c9748e94242e55a4ce686a24240\n",
            "Successfully built mibian\n",
            "Installing collected packages: mibian\n",
            "Successfully installed mibian-0.1.3\n"
          ],
          "name": "stdout"
        }
      ]
    },
    {
      "cell_type": "markdown",
      "metadata": {
        "id": "1-lCrlzPXbGt"
      },
      "source": [
        "##Step 2:- Importing Mibian\n",
        "\n"
      ]
    },
    {
      "cell_type": "code",
      "metadata": {
        "id": "QtWtboHgXfgk"
      },
      "source": [
        "import mibian"
      ],
      "execution_count": null,
      "outputs": []
    },
    {
      "cell_type": "markdown",
      "metadata": {
        "id": "I3WbsbGeXnRw"
      },
      "source": [
        "## Know Black-Scholes model for option pricing\n",
        "\n",
        "The BS function builds the Black-Scholes model in this library. The syntax for this function is as follows:\n",
        "\n",
        "\n",
        "<font color=blue> BS([underlyingPrice, strikePrice, interestRate, daysToExpiration], volatility=x)</font>\n",
        "\n",
        "1. underlyingPrice: This is the price at which the stock is trading.\n",
        "\n",
        "2. strikePrice: This is the price at which the option will be exercised.\n",
        "\n",
        "3. interestRate: This is the risk-free rate prevailing in the economy. In our example, we will take future price as the underlyingPrice and consider the interest rate as 0. This is because the future price includes the interest rate.\n",
        "\n",
        "3. daysToExpiration: This the number of calendar days left to expiry.\n",
        "\n",
        "4. volatility: This is the option's implied volatility.\n"
      ]
    },
    {
      "cell_type": "markdown",
      "metadata": {
        "id": "XNxXbYtzXriE"
      },
      "source": [
        "## Step 3:- Pass the value in the below code\n",
        "\n",
        "We will call the 'BS' function from the mibian library and pass the following arguments:\n",
        "1. underlyingprice Price for BankNifty 34000\n",
        "2. strikePrice as 34100 \n",
        "3. Interest Rate or risk-free interest rate as '10' - In option chain for \n",
        "BankNifty on NSE, on the bottom you can check this value\n",
        "4. volatility as 23\n",
        "5. No of days for expiry as 20 days\n",
        " "
      ]
    },
    {
      "cell_type": "code",
      "metadata": {
        "id": "UTGNJsN9Xu1w"
      },
      "source": [
        "c = mibian.BS([34000, 34100, 10, 20], volatility=23)"
      ],
      "execution_count": null,
      "outputs": []
    },
    {
      "cell_type": "markdown",
      "metadata": {
        "id": "tJiqnoUTX1eQ"
      },
      "source": [
        "We will use the attribute 'callPrice' of variable 'c' to calculate the call price of the option."
      ]
    },
    {
      "cell_type": "code",
      "metadata": {
        "colab": {
          "base_uri": "https://localhost:8080/"
        },
        "id": "YBv2FuvPX3u4",
        "outputId": "8129c1d3-aefa-4c42-de15-012577311380"
      },
      "source": [
        "c.callPrice"
      ],
      "execution_count": null,
      "outputs": [
        {
          "output_type": "execute_result",
          "data": {
            "text/plain": [
              "773.2399893161637"
            ]
          },
          "metadata": {
            "tags": []
          },
          "execution_count": 5
        }
      ]
    },
    {
      "cell_type": "markdown",
      "metadata": {
        "id": "LZVzD3ypX7-I"
      },
      "source": [
        "We will use the attribute 'putPrice' of variable 'c' to calculate the put price of the option."
      ]
    },
    {
      "cell_type": "code",
      "metadata": {
        "colab": {
          "base_uri": "https://localhost:8080/"
        },
        "id": "0Xe9zNAdX-Fq",
        "outputId": "f9b5f499-fd49-45ef-b460-5055f17316dc"
      },
      "source": [
        "c.putPrice"
      ],
      "execution_count": null,
      "outputs": [
        {
          "output_type": "execute_result",
          "data": {
            "text/plain": [
              "686.9016564525282"
            ]
          },
          "metadata": {
            "tags": []
          },
          "execution_count": 6
        }
      ]
    },
    {
      "cell_type": "markdown",
      "metadata": {
        "id": "mPo4V0OJYDMA"
      },
      "source": [
        "You can change the parameters to the BS function and see how the call and put price changes. In the next unit, there will be an interactive exercise to calculate the call price and put price using the BS function.\n"
      ]
    }
  ]
}